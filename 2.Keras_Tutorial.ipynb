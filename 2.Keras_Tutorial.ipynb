{
  "cells": [
    {
      "cell_type": "markdown",
      "metadata": {
        "id": "iWI0tTBsGUK-"
      },
      "source": [
        "# Keras深度學習初體驗1\n",
        "利用keras套件，產生一個32個神經元的深度學習模型進行訓練\n"
      ]
    },
    {
      "cell_type": "code",
      "execution_count": 1,
      "metadata": {
        "colab": {
          "base_uri": "https://localhost:8080/"
        },
        "id": "tCggV4LJGPHI",
        "outputId": "4ad002c5-8c52-4942-fdb8-d6746de85bcb"
      },
      "outputs": [
        {
          "name": "stdout",
          "output_type": "stream",
          "text": [
            "(1000, 10)\n",
            "[0.71084277 0.9210517  0.01938828 0.84846976 0.17348438 0.06398641\n",
            " 0.3888395  0.50022388 0.46854219 0.06454236]\n",
            "(1000, 1)\n",
            "[0]\n",
            "Epoch 1/10\n",
            "32/32 [==============================] - 6s 7ms/step - loss: 0.6953 - accuracy: 0.5180\n",
            "Epoch 2/10\n",
            "32/32 [==============================] - 0s 8ms/step - loss: 0.6926 - accuracy: 0.5270\n",
            "Epoch 3/10\n",
            "32/32 [==============================] - 0s 7ms/step - loss: 0.6921 - accuracy: 0.5150\n",
            "Epoch 4/10\n",
            "32/32 [==============================] - 0s 9ms/step - loss: 0.6902 - accuracy: 0.5420\n",
            "Epoch 5/10\n",
            "32/32 [==============================] - 0s 8ms/step - loss: 0.6900 - accuracy: 0.5460\n",
            "Epoch 6/10\n",
            "32/32 [==============================] - 0s 8ms/step - loss: 0.6892 - accuracy: 0.5420\n",
            "Epoch 7/10\n",
            "32/32 [==============================] - 0s 10ms/step - loss: 0.6884 - accuracy: 0.5330\n",
            "Epoch 8/10\n",
            "32/32 [==============================] - 0s 8ms/step - loss: 0.6874 - accuracy: 0.5590\n",
            "Epoch 9/10\n",
            "32/32 [==============================] - 0s 7ms/step - loss: 0.6870 - accuracy: 0.5440\n",
            "Epoch 10/10\n",
            "32/32 [==============================] - 0s 7ms/step - loss: 0.6866 - accuracy: 0.5600\n",
            "32/32 [==============================] - 0s 3ms/step - loss: 0.6849 - accuracy: 0.5610\n",
            "0.5609999895095825\n"
          ]
        }
      ],
      "source": [
        "from tensorflow import keras\n",
        "from keras.models import Sequential\n",
        "from keras.layers import Dense\n",
        "\n",
        "import numpy as np\n",
        "data = np.random.random((1000, 10)) #隨機產生1000筆資料，每筆資料包含十個float數字\n",
        "labels = np.random.randint(2, size=(1000, 1)) #隨機產生1000筆資料，每筆資料上限為2(意思就是0 或 1)\n",
        "print(np.shape(data))    # 輸出資料的維度\n",
        "print(data[0])           # 輸出第一筆資料的內容\n",
        "print(np.shape(labels))  # 輸出標籤資料的維度\n",
        "print(labels[0])         # 輸出第一筆標籤資料的值\n",
        "\n",
        "model = Sequential()     # 創建一個Sequential模型\n",
        "model.add(Dense(32, activation='relu', input_dim=10)) # 添加一個具有32個神經元和ReLU激活函數的全連接層，輸入維度為10\n",
        "model.add(Dense(1, activation='sigmoid'))             # 添加一個具有1個神經元和Sigmoid激活函數的全連接層\n",
        "model.compile(optimizer='rmsprop', loss='binary_crossentropy', metrics=['accuracy'])   # 編譯模型，使用rmsprop優化器、binary_crossentropy損失函數和accuracy指標\n",
        "\n",
        "model.fit(data, labels, epochs=10, batch_size=32)      # 使用資料和標籤訓練模型，執行10個週期，每批次包含32筆資料\n",
        "\n",
        "score=model.evaluate(data, labels)                     # 評估模型的性能並輸出準確度\n",
        "print(score[1])"
      ]
    }
  ],
  "metadata": {
    "accelerator": "GPU",
    "colab": {
      "name": "2.Keras_Tutorial_1.ipynb",
      "provenance": []
    },
    "kernelspec": {
      "display_name": "Python 3",
      "name": "python3"
    }
  },
  "nbformat": 4,
  "nbformat_minor": 0
}
