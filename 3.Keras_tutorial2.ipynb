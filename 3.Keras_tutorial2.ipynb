{
  "cells": [
    {
      "cell_type": "code",
      "execution_count": 2,
      "metadata": {
        "colab": {
          "base_uri": "https://localhost:8080/"
        },
        "id": "1IGiWBT7f1qd",
        "outputId": "aee3448f-3044-4420-d827-66f6a35b25ee"
      },
      "outputs": [
        {
          "name": "stdout",
          "output_type": "stream",
          "text": [
            "Epoch 1/10\n",
            "32/32 [==============================] - 1s 6ms/step - loss: 692.3563 - accuracy: 0.0960\n",
            "Epoch 2/10\n",
            "32/32 [==============================] - 0s 6ms/step - loss: 2474.1013 - accuracy: 0.0970\n",
            "Epoch 3/10\n",
            "32/32 [==============================] - 0s 6ms/step - loss: 4541.2969 - accuracy: 0.0980\n",
            "Epoch 4/10\n",
            "32/32 [==============================] - 0s 6ms/step - loss: 6494.2593 - accuracy: 0.0970\n",
            "Epoch 5/10\n",
            "32/32 [==============================] - 0s 6ms/step - loss: 8728.3330 - accuracy: 0.0970\n",
            "Epoch 6/10\n",
            "32/32 [==============================] - 0s 6ms/step - loss: 11054.8096 - accuracy: 0.0970\n",
            "Epoch 7/10\n",
            "32/32 [==============================] - 0s 7ms/step - loss: 12942.4678 - accuracy: 0.0980\n",
            "Epoch 8/10\n",
            "32/32 [==============================] - 0s 6ms/step - loss: 14771.3682 - accuracy: 0.0990\n",
            "Epoch 9/10\n",
            "32/32 [==============================] - 0s 6ms/step - loss: 16742.0098 - accuracy: 0.0970\n",
            "Epoch 10/10\n",
            "32/32 [==============================] - 0s 6ms/step - loss: 18890.1309 - accuracy: 0.0970\n",
            "32/32 [==============================] - 0s 3ms/step - loss: 19942.8555 - accuracy: 0.0970\n",
            "0.09700000286102295\n"
          ]
        }
      ],
      "source": [
        "from tensorflow import keras\n",
        "from keras.models import Sequential\n",
        "from keras.layers import Dense, Dropout\n",
        " \n",
        "model = Sequential() # 創建一個Sequential模型\n",
        "model.add(Dense(512, activation='relu', input_dim=784)) # 添加一個具有512個神經元和ReLU激活函數的全連接層，輸入維度為784\n",
        "model.add(Dropout(0.2))                                 # 添加一個Dropout層，用於減少過擬合，丟棄20%的輸入單位\n",
        "model.add(Dense(10, activation='softmax'))              # 添加一個具有10個神經元和softmax激活函數的全連接層\n",
        "model.compile(optimizer='adam', loss='categorical_crossentropy', metrics=['accuracy'])# 編譯模型，使用Adam優化器、categorical_crossentropy損失函數和accuracy指標\n",
        " \n",
        "import numpy as np                                      \n",
        "data = np.random.random((1000, 784))                    # 隨機生成1000筆資料，每筆資料包含784個特徵\n",
        "labels = np.random.randint(10, size=(1000, 10))         # 隨機生成1000筆標籤資料，每筆標籤是一個包含10個類別的向量，每個類別的值為0到9\n",
        " \n",
        "model.fit(data, labels, epochs=10, batch_size=32)       # 使用資料和標籤訓練模型，執行10個訓練週期，每批次包含32筆資料\n",
        "\n",
        "score=model.evaluate(data, labels)\n",
        "print(score[1])"
      ]
    },
    {
      "cell_type": "code",
      "execution_count": null,
      "metadata": {
        "id": "yTxfc2-Tf61y"
      },
      "outputs": [],
      "source": []
    }
  ],
  "metadata": {
    "colab": {
      "provenance": []
    },
    "kernelspec": {
      "display_name": "Python 3",
      "name": "python3"
    },
    "language_info": {
      "name": "python"
    }
  },
  "nbformat": 4,
  "nbformat_minor": 0
}
